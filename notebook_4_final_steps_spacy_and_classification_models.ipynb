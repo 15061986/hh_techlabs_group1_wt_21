{
 "cells": [
  {
   "cell_type": "markdown",
   "metadata": {},
   "source": [
    "# Analysis Ratings & Reviews NIVEA.de\n"
   ]
  },
  {
   "cell_type": "markdown",
   "metadata": {},
   "source": [
    "# Notebook 4: Final Steps - Spacy & Classification Models"
   ]
  },
  {
   "cell_type": "markdown",
   "metadata": {},
   "source": [
    "#### Reading the data set with filtered reviews "
   ]
  },
  {
   "cell_type": "code",
   "execution_count": 197,
   "metadata": {},
   "outputs": [],
   "source": [
    "import pandas as pd\n",
    "import spacy\n",
    "\n",
    "reviews_filtered = pd.read_csv(\"reviews_filtered.csv\")"
   ]
  },
  {
   "cell_type": "markdown",
   "metadata": {},
   "source": [
    "#### Clean_doc() function "
   ]
  },
  {
   "cell_type": "markdown",
   "metadata": {},
   "source": [
    "We create a function that cleans our data"
   ]
  },
  {
   "cell_type": "code",
   "execution_count": 198,
   "metadata": {},
   "outputs": [],
   "source": [
    "import emoji \n",
    "import re\n",
    "import string\n",
    "\n",
    "def clean_doc(doc):\n",
    "    \n",
    "    # All words in lowercase\n",
    "    doc = doc.lower()\n",
    "    \n",
    "    # Removing emojis\n",
    "    doc = emoji.get_emoji_regexp().sub(u'', doc)\n",
    "    \n",
    "    # Removing numbers\n",
    "    doc = re.sub(r\"[0-9]+\", \"\", doc)\n",
    "    \n",
    "    # Tokenization\n",
    "    tokens = doc.split()\n",
    "    \n",
    "    # Removing special characters\n",
    "    tokens = [w.translate(str.maketrans('', '', string.punctuation)) for w in tokens]\n",
    "    \n",
    "    # Removing words with less than two letters, i.e. individual letters\n",
    "    tokens = [word for word in tokens if len(word) > 1]\n",
    "    \n",
    "    # Returning the filtered tokens\n",
    "    return ' '.join(tokens)"
   ]
  },
  {
   "cell_type": "markdown",
   "metadata": {},
   "source": [
    "Now we apply the function to the \"review_content\" column and write the result in a separate list."
   ]
  },
  {
   "cell_type": "code",
   "execution_count": 199,
   "metadata": {},
   "outputs": [],
   "source": [
    "reviews = []\n",
    "\n",
    "for text in reviews_filtered['review_content']:\n",
    "    text = clean_doc(text)\n",
    "    reviews.append(text)\n"
   ]
  },
  {
   "cell_type": "code",
   "execution_count": 200,
   "metadata": {},
   "outputs": [],
   "source": [
    "reviews_filtered['review_content_clean'] = reviews"
   ]
  },
  {
   "cell_type": "markdown",
   "metadata": {},
   "source": [
    "### SpaCy Module"
   ]
  },
  {
   "cell_type": "markdown",
   "metadata": {},
   "source": [
    "Now we load SpaCy and the German language package."
   ]
  },
  {
   "cell_type": "code",
   "execution_count": 201,
   "metadata": {},
   "outputs": [],
   "source": [
    "import spacy\n",
    "\n",
    "nlp = spacy.load(\"de_core_news_sm\")"
   ]
  },
  {
   "cell_type": "markdown",
   "metadata": {},
   "source": [
    "#### Default pipeline of the SpaCy model"
   ]
  },
  {
   "cell_type": "code",
   "execution_count": 202,
   "metadata": {},
   "outputs": [
    {
     "data": {
      "text/plain": [
       "[('tok2vec', <spacy.pipeline.tok2vec.Tok2Vec at 0x2d846ba41c0>),\n",
       " ('tagger', <spacy.pipeline.tagger.Tagger at 0x2d83a1c5a00>),\n",
       " ('morphologizer',\n",
       "  <spacy.pipeline.morphologizer.Morphologizer at 0x2d83a1c5460>),\n",
       " ('parser', <spacy.pipeline.dep_parser.DependencyParser at 0x2d854e45eb0>),\n",
       " ('attribute_ruler',\n",
       "  <spacy.pipeline.attributeruler.AttributeRuler at 0x2d83af89980>),\n",
       " ('lemmatizer', <spacy.pipeline.lemmatizer.Lemmatizer at 0x2d83af89800>),\n",
       " ('ner', <spacy.pipeline.ner.EntityRecognizer at 0x2d8ffb8d040>)]"
      ]
     },
     "execution_count": 202,
     "metadata": {},
     "output_type": "execute_result"
    }
   ],
   "source": [
    "nlp.pipeline"
   ]
  },
  {
   "cell_type": "markdown",
   "metadata": {},
   "source": [
    "The pipeline consists of the following 7 steps:\n",
    "\n",
    "* Tokenizer\n",
    "* Tagger\n",
    "* Morphologizier\n",
    "* Parser\n",
    "* Attribute Ruler\n",
    "* Lemmatizer\n",
    "* NER (Named Entitiy Recognition)"
   ]
  },
  {
   "cell_type": "markdown",
   "metadata": {},
   "source": [
    "#### Defining our own SpaCy pipeline"
   ]
  },
  {
   "cell_type": "markdown",
   "metadata": {},
   "source": [
    "We want to modify (respectively simplify) the default pipeline. The new SpaCy pipeline should only consist of 2 steps:\n",
    "\n",
    "* Tokenizer\n",
    "\n",
    "* Lemmatizer"
   ]
  },
  {
   "cell_type": "code",
   "execution_count": 203,
   "metadata": {},
   "outputs": [],
   "source": [
    "nlp = spacy.load(\"de_core_news_sm\", exclude = ['morphologizer', 'parser', 'attribute_ruler', 'ner', 'tagger'])"
   ]
  },
  {
   "cell_type": "markdown",
   "metadata": {},
   "source": [
    "#### Checking the modified pipeline"
   ]
  },
  {
   "cell_type": "code",
   "execution_count": 204,
   "metadata": {},
   "outputs": [
    {
     "name": "stdout",
     "output_type": "stream",
     "text": [
      "\u001b[1m\n",
      "============================= Pipeline Overview =============================\u001b[0m\n",
      "\n",
      "#   Component    Assigns       Requires   Scores      Retokenizes\n",
      "-   ----------   -----------   --------   ---------   -----------\n",
      "0   tok2vec      doc.tensor                           False      \n",
      "                                                                 \n",
      "1   lemmatizer   token.lemma              lemma_acc   False      \n",
      "\n",
      "✔ No problems found.\n"
     ]
    },
    {
     "data": {
      "text/plain": [
       "{'summary': {'tok2vec': {'assigns': ['doc.tensor'],\n",
       "   'requires': [],\n",
       "   'scores': [],\n",
       "   'retokenizes': False},\n",
       "  'lemmatizer': {'assigns': ['token.lemma'],\n",
       "   'requires': [],\n",
       "   'scores': ['lemma_acc'],\n",
       "   'retokenizes': False}},\n",
       " 'problems': {'tok2vec': [], 'lemmatizer': []},\n",
       " 'attrs': {'doc.tensor': {'assigns': ['tok2vec'], 'requires': []},\n",
       "  'token.lemma': {'assigns': ['lemmatizer'], 'requires': []}}}"
      ]
     },
     "execution_count": 204,
     "metadata": {},
     "output_type": "execute_result"
    }
   ],
   "source": [
    "nlp.analyze_pipes(pretty = True)"
   ]
  },
  {
   "cell_type": "markdown",
   "metadata": {},
   "source": [
    "We see: \"No problems found\". Now the pipeline consists of two steps only."
   ]
  },
  {
   "cell_type": "markdown",
   "metadata": {},
   "source": [
    "### Removing foreign language reviews from the data set"
   ]
  },
  {
   "cell_type": "markdown",
   "metadata": {},
   "source": [
    "Now we want to remove foreign language reviews from our data set. We use the langdetector library. "
   ]
  },
  {
   "cell_type": "code",
   "execution_count": 205,
   "metadata": {},
   "outputs": [],
   "source": [
    "import langdetect\n",
    "import langid"
   ]
  },
  {
   "cell_type": "markdown",
   "metadata": {},
   "source": [
    "We use try-except execution. This ensures that in the case of errors (i.e. the language is not recognized), the abort is executed. The language is then assigned as \"unknown\".\n"
   ]
  },
  {
   "cell_type": "code",
   "execution_count": 206,
   "metadata": {},
   "outputs": [],
   "source": [
    "reviews = reviews_filtered['review_content_clean']\n",
    "languages_langdetect = []\n",
    "\n",
    "for text in reviews :\n",
    "    \n",
    "    try:\n",
    "        result = langdetect.detect_langs(text)\n",
    "        result = str(result[0])[:2]\n",
    "    \n",
    "    except:\n",
    "        result = 'unknown'\n",
    "    \n",
    "    finally:\n",
    "        languages_langdetect.append(result)"
   ]
  },
  {
   "cell_type": "markdown",
   "metadata": {},
   "source": [
    "#### Checking the results"
   ]
  },
  {
   "cell_type": "code",
   "execution_count": 207,
   "metadata": {},
   "outputs": [
    {
     "data": {
      "text/plain": [
       "de         80471\n",
       "en           279\n",
       "no           183\n",
       "fr           127\n",
       "da           103\n",
       "nl            74\n",
       "af            60\n",
       "ro            59\n",
       "unknown       51\n",
       "sv            46\n",
       "et            41\n",
       "it            31\n",
       "ca            30\n",
       "sk            20\n",
       "lv            17\n",
       "fi            13\n",
       "es            13\n",
       "id            12\n",
       "sl            11\n",
       "sq            10\n",
       "cy             8\n",
       "pl             5\n",
       "pt             4\n",
       "hr             4\n",
       "tl             3\n",
       "tr             3\n",
       "so             2\n",
       "bg             1\n",
       "ru             1\n",
       "zh             1\n",
       "lt             1\n",
       "hu             1\n",
       "dtype: int64"
      ]
     },
     "execution_count": 207,
     "metadata": {},
     "output_type": "execute_result"
    }
   ],
   "source": [
    "pd.Series(languages_langdetect).value_counts() # detected languages and their counts"
   ]
  },
  {
   "cell_type": "markdown",
   "metadata": {},
   "source": [
    "#### Checking the reviews that were classified as \"English\""
   ]
  },
  {
   "cell_type": "code",
   "execution_count": 208,
   "metadata": {},
   "outputs": [
    {
     "data": {
      "text/html": [
       "<div>\n",
       "<style scoped>\n",
       "    .dataframe tbody tr th:only-of-type {\n",
       "        vertical-align: middle;\n",
       "    }\n",
       "\n",
       "    .dataframe tbody tr th {\n",
       "        vertical-align: top;\n",
       "    }\n",
       "\n",
       "    .dataframe thead th {\n",
       "        text-align: right;\n",
       "    }\n",
       "</style>\n",
       "<table border=\"1\" class=\"dataframe\">\n",
       "  <thead>\n",
       "    <tr style=\"text-align: right;\">\n",
       "      <th></th>\n",
       "      <th>Unnamed: 0</th>\n",
       "      <th>id</th>\n",
       "      <th>date</th>\n",
       "      <th>product_id</th>\n",
       "      <th>product_url</th>\n",
       "      <th>product_title</th>\n",
       "      <th>review_title</th>\n",
       "      <th>review_content</th>\n",
       "      <th>review_score</th>\n",
       "      <th>display_name</th>\n",
       "      <th>day_of_week</th>\n",
       "      <th>category</th>\n",
       "      <th>review_content_clean</th>\n",
       "      <th>review_content_tokenized</th>\n",
       "      <th>language</th>\n",
       "    </tr>\n",
       "  </thead>\n",
       "  <tbody>\n",
       "    <tr>\n",
       "      <th>1059</th>\n",
       "      <td>14172</td>\n",
       "      <td>170052491</td>\n",
       "      <td>2019-06-06</td>\n",
       "      <td>89258.0</td>\n",
       "      <td>https://www.nivea.de/produkte/micellair-skin-b...</td>\n",
       "      <td>micellair skin breathe mizellenwasser trockene...</td>\n",
       "      <td>Super!</td>\n",
       "      <td>Dieses Produkt does what it should. Austrockne...</td>\n",
       "      <td>5</td>\n",
       "      <td>Jessica</td>\n",
       "      <td>Thursday</td>\n",
       "      <td>other</td>\n",
       "      <td>dieses produkt does what it should austrocknet...</td>\n",
       "      <td>dieses produkt does what it should  austrockne...</td>\n",
       "      <td>en</td>\n",
       "    </tr>\n",
       "    <tr>\n",
       "      <th>1598</th>\n",
       "      <td>14711</td>\n",
       "      <td>170053566</td>\n",
       "      <td>2019-12-14</td>\n",
       "      <td>82808.0</td>\n",
       "      <td>https://www.nivea.de/produkte/active-protect-d...</td>\n",
       "      <td>active protect deo roll-on</td>\n",
       "      <td>Der Deo Roller einfach Klasse</td>\n",
       "      <td>Der Deo Roll ACTIVE PROTECT ist einfach guter ...</td>\n",
       "      <td>5</td>\n",
       "      <td>Günther</td>\n",
       "      <td>Saturday</td>\n",
       "      <td>other</td>\n",
       "      <td>der deo roll active protect ist einfach guter ...</td>\n",
       "      <td>der deo roll active protect ist einfach guter ...</td>\n",
       "      <td>en</td>\n",
       "    </tr>\n",
       "    <tr>\n",
       "      <th>2482</th>\n",
       "      <td>15595</td>\n",
       "      <td>170054891</td>\n",
       "      <td>2020-04-02</td>\n",
       "      <td>80052.0</td>\n",
       "      <td>https://www.nivea.de/produkte/fresh-ocean-deo-...</td>\n",
       "      <td>fresh ocean deo spray</td>\n",
       "      <td>Toll</td>\n",
       "      <td>Fresh ocean ist die beste spray</td>\n",
       "      <td>5</td>\n",
       "      <td>Dino</td>\n",
       "      <td>Thursday</td>\n",
       "      <td>other</td>\n",
       "      <td>fresh ocean ist die beste spray</td>\n",
       "      <td>fresh ocean ist die beste spray</td>\n",
       "      <td>en</td>\n",
       "    </tr>\n",
       "  </tbody>\n",
       "</table>\n",
       "</div>"
      ],
      "text/plain": [
       "      Unnamed: 0         id        date  product_id  \\\n",
       "1059       14172  170052491  2019-06-06     89258.0   \n",
       "1598       14711  170053566  2019-12-14     82808.0   \n",
       "2482       15595  170054891  2020-04-02     80052.0   \n",
       "\n",
       "                                            product_url  \\\n",
       "1059  https://www.nivea.de/produkte/micellair-skin-b...   \n",
       "1598  https://www.nivea.de/produkte/active-protect-d...   \n",
       "2482  https://www.nivea.de/produkte/fresh-ocean-deo-...   \n",
       "\n",
       "                                          product_title  \\\n",
       "1059  micellair skin breathe mizellenwasser trockene...   \n",
       "1598                         active protect deo roll-on   \n",
       "2482                              fresh ocean deo spray   \n",
       "\n",
       "                       review_title  \\\n",
       "1059                         Super!   \n",
       "1598  Der Deo Roller einfach Klasse   \n",
       "2482                           Toll   \n",
       "\n",
       "                                         review_content  review_score  \\\n",
       "1059  Dieses Produkt does what it should. Austrockne...             5   \n",
       "1598  Der Deo Roll ACTIVE PROTECT ist einfach guter ...             5   \n",
       "2482                    Fresh ocean ist die beste spray             5   \n",
       "\n",
       "     display_name day_of_week category  \\\n",
       "1059      Jessica    Thursday    other   \n",
       "1598      Günther    Saturday    other   \n",
       "2482         Dino    Thursday    other   \n",
       "\n",
       "                                   review_content_clean  \\\n",
       "1059  dieses produkt does what it should austrocknet...   \n",
       "1598  der deo roll active protect ist einfach guter ...   \n",
       "2482                    fresh ocean ist die beste spray   \n",
       "\n",
       "                               review_content_tokenized language  \n",
       "1059  dieses produkt does what it should  austrockne...       en  \n",
       "1598  der deo roll active protect ist einfach guter ...       en  \n",
       "2482                    fresh ocean ist die beste spray       en  "
      ]
     },
     "execution_count": 208,
     "metadata": {},
     "output_type": "execute_result"
    }
   ],
   "source": [
    "reviews_filtered['language'] = languages_langdetect\n",
    "reviews_filtered[reviews_filtered['language'] == \"en\"].head(3)\n"
   ]
  },
  {
   "cell_type": "markdown",
   "metadata": {},
   "source": [
    "We can see that this doesn't work perfectly yet. For example, texts with mixed languages or reviews with English product names (which occurs more frequently) are classified as English. \n",
    "\n",
    "\n",
    "We attached the variable of the recognized language back to the data frame, so now we can filter the data for German texts."
   ]
  },
  {
   "cell_type": "markdown",
   "metadata": {},
   "source": [
    "#### Filtering the data set for German reviews"
   ]
  },
  {
   "cell_type": "code",
   "execution_count": 209,
   "metadata": {},
   "outputs": [],
   "source": [
    "reviews_filtered = reviews_filtered[reviews_filtered['language'] == \"de\"]"
   ]
  },
  {
   "cell_type": "markdown",
   "metadata": {},
   "source": [
    "Now we apply our SpaCy pipeline that we defined above.\n",
    "We first write the results in individual lists and will attach them later to the dataframe."
   ]
  },
  {
   "cell_type": "code",
   "execution_count": 210,
   "metadata": {},
   "outputs": [],
   "source": [
    "tokenized = []\n",
    "tokens_ex_stop = []\n",
    "lemmatized = []\n",
    "\n",
    "for doc in nlp.pipe(reviews_filtered['review_content_clean']):\n",
    "    tokenized.append([n.text for n in doc])\n",
    "    tokens_ex_stop.append(list([token.text for token in doc if token.is_stop != True and token.is_punct != True]))\n",
    "    lemmatized.append([n.lemma_ for n in doc if not n.is_stop])"
   ]
  },
  {
   "cell_type": "markdown",
   "metadata": {},
   "source": [
    "We created two lists: Tokenized and Tokenized Ex Stop.\n",
    "The latter list only includes tokens that are not stopwords.\n",
    "\n",
    "In Spacy, the information \"is_stop\" (token.is_stop) exists for each token and thus it is possible to remove stop words immediately.\n",
    "\n",
    "Now we render the lists back to the data frame."
   ]
  },
  {
   "cell_type": "code",
   "execution_count": 211,
   "metadata": {},
   "outputs": [],
   "source": [
    "reviews_filtered['review_content_tokenized'] = tokenized\n",
    "reviews_filtered['review_content_tokenized_ex_stopwords'] = tokens_ex_stop\n",
    "reviews_filtered['review_content_lemmatized'] = lemmatized "
   ]
  },
  {
   "cell_type": "markdown",
   "metadata": {},
   "source": [
    "### Classification Models"
   ]
  },
  {
   "cell_type": "markdown",
   "metadata": {},
   "source": [
    "Now we want to test different classification models in order to find the best classifier for our \"Review Score Classification Problem\", that is to predict the review score on the basis of the review text. This approach should help to prevent bad ratings by mistake, with the review text being positive."
   ]
  },
  {
   "cell_type": "markdown",
   "metadata": {},
   "source": [
    "#### Creating a train-test split"
   ]
  },
  {
   "cell_type": "code",
   "execution_count": 213,
   "metadata": {},
   "outputs": [],
   "source": [
    "import random\n",
    "from sklearn.model_selection import train_test_split\n",
    "\n",
    "\n",
    "X_train, X_test, y_train, y_test = train_test_split(reviews_filtered.review_content_lemmatized, \n",
    "                                                    reviews_filtered.review_score, \n",
    "                                                    train_size=0.8, # default is 75% / 25% train-test split\n",
    "                                                    random_state = 123)"
   ]
  },
  {
   "cell_type": "markdown",
   "metadata": {},
   "source": [
    "#### Implementing TF-IDF Vectorizer vs. CountVectorizer"
   ]
  },
  {
   "cell_type": "markdown",
   "metadata": {},
   "source": [
    "TF-IDF Vectorizer and CountVectorizer are algorithms that transform text into a meaningful representation of numbers which is used to fit machine algorithm for prediction."
   ]
  },
  {
   "cell_type": "code",
   "execution_count": 214,
   "metadata": {},
   "outputs": [],
   "source": [
    "from sklearn.feature_extraction.text import TfidfVectorizer, CountVectorizer\n",
    "\n",
    "\n",
    "def dummy_fun(doc):\n",
    "    return doc\n",
    "\n",
    "countvec = CountVectorizer(\n",
    "    analyzer = 'word',\n",
    "    tokenizer = dummy_fun,\n",
    "    preprocessor = dummy_fun)\n",
    "\n",
    "tfidf = TfidfVectorizer(\n",
    "    analyzer='word',\n",
    "    tokenizer=dummy_fun,\n",
    "    preprocessor=dummy_fun,\n",
    "    token_pattern=None)\n"
   ]
  },
  {
   "cell_type": "markdown",
   "metadata": {},
   "source": [
    "Since the accuracy of TF-IDF was slightly better, we use this vectorizer in the following classification models"
   ]
  },
  {
   "cell_type": "markdown",
   "metadata": {},
   "source": [
    "### Logistic Regression"
   ]
  },
  {
   "cell_type": "code",
   "execution_count": 215,
   "metadata": {},
   "outputs": [
    {
     "data": {
      "text/plain": [
       "LogisticRegression(class_weight='balanced', max_iter=1000)"
      ]
     },
     "execution_count": 215,
     "metadata": {},
     "output_type": "execute_result"
    }
   ],
   "source": [
    "from sklearn.linear_model import LogisticRegression\n",
    "\n",
    "lgr = LogisticRegression(class_weight = \"balanced\", max_iter = 1000)\n",
    "lgr.fit(tfidf.fit_transform(X_train), y_train)\n"
   ]
  },
  {
   "cell_type": "code",
   "execution_count": 216,
   "metadata": {},
   "outputs": [],
   "source": [
    "preds_lgr = lgr.predict(tfidf.transform(X_test))"
   ]
  },
  {
   "cell_type": "code",
   "execution_count": 217,
   "metadata": {},
   "outputs": [
    {
     "name": "stdout",
     "output_type": "stream",
     "text": [
      "              precision    recall  f1-score   support\n",
      "\n",
      "           1       0.57      0.30      0.40       385\n",
      "           2       0.27      0.09      0.13       513\n",
      "           3       0.45      0.18      0.26      1537\n",
      "           4       0.45      0.36      0.40      4047\n",
      "           5       0.71      0.88      0.79      9613\n",
      "\n",
      "    accuracy                           0.64     16095\n",
      "   macro avg       0.49      0.36      0.40     16095\n",
      "weighted avg       0.61      0.64      0.61     16095\n",
      "\n"
     ]
    }
   ],
   "source": [
    "from sklearn.metrics import classification_report, confusion_matrix, accuracy_score, ConfusionMatrixDisplay\n",
    "\n",
    "print(classification_report(preds_lgr, y_test))\n",
    "cm = confusion_matrix(preds_lgr, y_test, labels = lgr.classes_)"
   ]
  },
  {
   "cell_type": "code",
   "execution_count": 218,
   "metadata": {},
   "outputs": [
    {
     "data": {
      "text/plain": [
       "<sklearn.metrics._plot.confusion_matrix.ConfusionMatrixDisplay at 0x2d91bec1850>"
      ]
     },
     "execution_count": 218,
     "metadata": {},
     "output_type": "execute_result"
    },
    {
     "data": {
      "image/png": "[encoded data removed]",
      "text/plain": [
       "<Figure size 432x288 with 2 Axes>"
      ]
     },
     "metadata": {
      "needs_background": "light"
     },
     "output_type": "display_data"
    }
   ],
   "source": [
    "disp = ConfusionMatrixDisplay(confusion_matrix = cm,\n",
    "                              display_labels = lgr.classes_)\n",
    "\n",
    "disp.plot()"
   ]
  },
  {
   "cell_type": "markdown",
   "metadata": {},
   "source": [
    "### Linear Support Vector Machine"
   ]
  },
  {
   "cell_type": "code",
   "execution_count": 149,
   "metadata": {},
   "outputs": [],
   "source": [
    "import matplotlib.pyplot as plt\n",
    "from sklearn.svm import SVC, LinearSVC"
   ]
  },
  {
   "cell_type": "markdown",
   "metadata": {},
   "source": [
    "#### LinearSVC"
   ]
  },
  {
   "cell_type": "code",
   "execution_count": 150,
   "metadata": {},
   "outputs": [
    {
     "data": {
      "text/plain": [
       "LinearSVC()"
      ]
     },
     "execution_count": 150,
     "metadata": {},
     "output_type": "execute_result"
    }
   ],
   "source": [
    "lsvc = LinearSVC(max_iter = 1000)\n",
    "lsvc.fit(tfidf.fit_transform(X_train), y_train)"
   ]
  },
  {
   "cell_type": "code",
   "execution_count": 151,
   "metadata": {},
   "outputs": [],
   "source": [
    "preds_lsvc = lsvc.predict(tfidf.transform(X_test))"
   ]
  },
  {
   "cell_type": "code",
   "execution_count": 152,
   "metadata": {},
   "outputs": [
    {
     "name": "stdout",
     "output_type": "stream",
     "text": [
      "              precision    recall  f1-score   support\n",
      "\n",
      "           1       0.39      0.68      0.49       122\n",
      "           2       0.06      0.39      0.10        28\n",
      "           3       0.13      0.39      0.20       188\n",
      "           4       0.26      0.51      0.35      1685\n",
      "           5       0.95      0.80      0.87     14076\n",
      "\n",
      "    accuracy                           0.77     16099\n",
      "   macro avg       0.36      0.56      0.40     16099\n",
      "weighted avg       0.86      0.77      0.80     16099\n",
      "\n"
     ]
    }
   ],
   "source": [
    "print(classification_report(preds_lsvc, y_test))"
   ]
  },
  {
   "cell_type": "markdown",
   "metadata": {},
   "source": [
    "#### SVC , kernel =\"linear\""
   ]
  },
  {
   "cell_type": "code",
   "execution_count": 82,
   "metadata": {},
   "outputs": [
    {
     "name": "stderr",
     "output_type": "stream",
     "text": [
      "C:\\Users\\Valeria\\anaconda3\\lib\\site-packages\\sklearn\\svm\\_base.py:255: ConvergenceWarning: Solver terminated early (max_iter=1000).  Consider pre-processing your data with StandardScaler or MinMaxScaler.\n",
      "  warnings.warn('Solver terminated early (max_iter=%i).'\n"
     ]
    },
    {
     "data": {
      "text/plain": [
       "SVC(kernel='linear', max_iter=1000)"
      ]
     },
     "execution_count": 82,
     "metadata": {},
     "output_type": "execute_result"
    }
   ],
   "source": [
    "svc_linear = SVC(max_iter = 1000, kernel='linear') # The default SVC kernel is radial basis function (RBF)\n",
    "svc_linear.fit(tfidf.fit_transform(X_train), y_train)"
   ]
  },
  {
   "cell_type": "code",
   "execution_count": 103,
   "metadata": {},
   "outputs": [],
   "source": [
    "preds_svc_linear = svc_linear.predict(tfidf.transform(X_test))"
   ]
  },
  {
   "cell_type": "code",
   "execution_count": 104,
   "metadata": {},
   "outputs": [
    {
     "name": "stdout",
     "output_type": "stream",
     "text": [
      "              precision    recall  f1-score   support\n",
      "\n",
      "           1       0.43      0.55      0.48       178\n",
      "           2       0.07      0.34      0.12        50\n",
      "           3       0.33      0.15      0.21      1580\n",
      "           4       0.27      0.24      0.26      4479\n",
      "           5       0.74      0.80      0.77     13833\n",
      "\n",
      "    accuracy                           0.62     20120\n",
      "   macro avg       0.37      0.42      0.37     20120\n",
      "weighted avg       0.60      0.62      0.60     20120\n",
      "\n"
     ]
    }
   ],
   "source": [
    "print(classification_report(preds_svc_linear, y_test))"
   ]
  },
  {
   "cell_type": "markdown",
   "metadata": {},
   "source": [
    "#### SVC , kernel =\"rbf\""
   ]
  },
  {
   "cell_type": "code",
   "execution_count": 72,
   "metadata": {},
   "outputs": [
    {
     "name": "stderr",
     "output_type": "stream",
     "text": [
      "C:\\Users\\Valeria\\anaconda3\\lib\\site-packages\\sklearn\\svm\\_base.py:255: ConvergenceWarning: Solver terminated early (max_iter=1000).  Consider pre-processing your data with StandardScaler or MinMaxScaler.\n",
      "  warnings.warn('Solver terminated early (max_iter=%i).'\n"
     ]
    },
    {
     "data": {
      "text/plain": [
       "SVC(max_iter=1000)"
      ]
     },
     "execution_count": 72,
     "metadata": {},
     "output_type": "execute_result"
    }
   ],
   "source": [
    "svc = SVC(kernel='rbf', max_iter = 1000)\n",
    "svc.fit(tfidf.fit_transform(X_train), y_train)\n"
   ]
  },
  {
   "cell_type": "code",
   "execution_count": 73,
   "metadata": {},
   "outputs": [],
   "source": [
    "preds_svc = svc.predict(tfidf.transform(X_test))"
   ]
  },
  {
   "cell_type": "code",
   "execution_count": 74,
   "metadata": {},
   "outputs": [
    {
     "name": "stdout",
     "output_type": "stream",
     "text": [
      "              precision    recall  f1-score   support\n",
      "\n",
      "           1       0.31      0.59      0.40       119\n",
      "           2       0.02      0.36      0.03        11\n",
      "           3       0.58      0.09      0.16      4759\n",
      "           4       0.16      0.22      0.18      2984\n",
      "           5       0.66      0.81      0.73     12247\n",
      "\n",
      "    accuracy                           0.55     20120\n",
      "   macro avg       0.34      0.41      0.30     20120\n",
      "weighted avg       0.57      0.55      0.51     20120\n",
      "\n"
     ]
    }
   ],
   "source": [
    "print(classification_report(preds_svc, y_test))"
   ]
  },
  {
   "cell_type": "markdown",
   "metadata": {},
   "source": [
    "### Decision Tree Classifier"
   ]
  },
  {
   "cell_type": "code",
   "execution_count": 114,
   "metadata": {},
   "outputs": [],
   "source": [
    "from sklearn.tree import DecisionTreeClassifier, plot_tree"
   ]
  },
  {
   "cell_type": "code",
   "execution_count": 115,
   "metadata": {},
   "outputs": [
    {
     "data": {
      "text/plain": [
       "DecisionTreeClassifier()"
      ]
     },
     "execution_count": 115,
     "metadata": {},
     "output_type": "execute_result"
    }
   ],
   "source": [
    "dtc = DecisionTreeClassifier()\n",
    "dtc.fit(tfidf.fit_transform(X_train), y_train)\n"
   ]
  },
  {
   "cell_type": "code",
   "execution_count": 116,
   "metadata": {},
   "outputs": [
    {
     "name": "stdout",
     "output_type": "stream",
     "text": [
      "              precision    recall  f1-score   support\n",
      "\n",
      "           1       0.23      0.29      0.26       153\n",
      "           2       0.07      0.11      0.08       120\n",
      "           3       0.16      0.20      0.17       461\n",
      "           4       0.31      0.33      0.32      2956\n",
      "           5       0.83      0.80      0.82     12406\n",
      "\n",
      "    accuracy                           0.69     16096\n",
      "   macro avg       0.32      0.34      0.33     16096\n",
      "weighted avg       0.70      0.69      0.70     16096\n",
      "\n"
     ]
    }
   ],
   "source": [
    "preds_dtc = dtc.predict(tfidf.transform(X_test))\n",
    "print(classification_report(preds_dtc, y_test))"
   ]
  },
  {
   "cell_type": "markdown",
   "metadata": {},
   "source": [
    "### Random Forest Classifier"
   ]
  },
  {
   "cell_type": "code",
   "execution_count": 168,
   "metadata": {},
   "outputs": [],
   "source": [
    "from sklearn.ensemble import RandomForestClassifier"
   ]
  },
  {
   "cell_type": "code",
   "execution_count": 169,
   "metadata": {},
   "outputs": [
    {
     "data": {
      "text/plain": [
       "RandomForestClassifier()"
      ]
     },
     "execution_count": 169,
     "metadata": {},
     "output_type": "execute_result"
    }
   ],
   "source": [
    "rfc = RandomForestClassifier()\n",
    "rfc.fit(tfidf.fit_transform(X_train), y_train)"
   ]
  },
  {
   "cell_type": "code",
   "execution_count": 170,
   "metadata": {},
   "outputs": [
    {
     "name": "stdout",
     "output_type": "stream",
     "text": [
      "              precision    recall  f1-score   support\n",
      "\n",
      "           1       0.11      0.77      0.19        30\n",
      "           2       0.02      0.67      0.04         6\n",
      "           3       0.05      0.62      0.09        45\n",
      "           4       0.11      0.64      0.19       547\n",
      "           5       0.99      0.76      0.86     15471\n",
      "\n",
      "    accuracy                           0.76     16099\n",
      "   macro avg       0.26      0.69      0.27     16099\n",
      "weighted avg       0.95      0.76      0.83     16099\n",
      "\n"
     ]
    }
   ],
   "source": [
    "preds_rfc = rfc.predict(tfidf.transform(X_test))\n",
    "print(classification_report(preds_rfc, y_test))"
   ]
  },
  {
   "cell_type": "markdown",
   "metadata": {},
   "source": [
    "### AdaBoost Classifier"
   ]
  },
  {
   "cell_type": "code",
   "execution_count": 220,
   "metadata": {},
   "outputs": [],
   "source": [
    "from sklearn.ensemble import AdaBoostClassifier\n",
    "ada_clf = AdaBoostClassifier(n_estimators=100, random_state=123)\n",
    "ada_clf = ada_clf.fit(tfidf.fit_transform(X_train), y_train)\n"
   ]
  },
  {
   "cell_type": "code",
   "execution_count": 222,
   "metadata": {},
   "outputs": [],
   "source": [
    "preds_ada_clf = ada_clf.predict(tfidf.transform(X_test))"
   ]
  },
  {
   "cell_type": "code",
   "execution_count": 224,
   "metadata": {},
   "outputs": [
    {
     "name": "stdout",
     "output_type": "stream",
     "text": [
      "              precision    recall  f1-score   support\n",
      "\n",
      "           1       0.25      0.47      0.33       111\n",
      "           2       0.05      0.15      0.08        62\n",
      "           3       0.03      0.31      0.06        64\n",
      "           4       0.07      0.54      0.12       404\n",
      "           5       0.99      0.76      0.86     15454\n",
      "\n",
      "    accuracy                           0.74     16095\n",
      "   macro avg       0.28      0.45      0.29     16095\n",
      "weighted avg       0.95      0.74      0.83     16095\n",
      "\n"
     ]
    }
   ],
   "source": [
    "print(classification_report(preds_ada_clf, y_test)) \n",
    "cm = confusion_matrix(preds_ada_clf, y_test)"
   ]
  },
  {
   "cell_type": "markdown",
   "metadata": {},
   "source": [
    "### Our Winner is:  Logistic Regression! \n",
    "Even though it doesn't have the best accuracy, it performes better than other classifiers when it comes to predicting negative reviews (see precision results). Positive reviews were predicted very well by all classification models."
   ]
  },
  {
   "cell_type": "markdown",
   "metadata": {},
   "source": [
    "And here comes our prototype classification model called \"Nivea Star Trekker\" :-)"
   ]
  },
  {
   "cell_type": "code",
   "execution_count": 235,
   "metadata": {},
   "outputs": [
    {
     "name": "stdout",
     "output_type": "stream",
     "text": [
      "Original-Text: ['Das Deo ist super!']\n",
      "Aufgeräumter Text: ['das deo ist super']\n",
      "Lemmatisierter Text: [['deo', 'super']]\n",
      "Star: [5]\n"
     ]
    }
   ],
   "source": [
    "# Positive Review Example\n",
    "\n",
    "my_review = [\"Das Deo ist super!\"]\n",
    "print(\"Original-Text:\", my_review)\n",
    "\n",
    "my_review_clean = []\n",
    "\n",
    "for text in my_review:\n",
    "    text = clean_doc(text) # we clean the review text --> see our clean_doc() function above\n",
    "    my_review_clean.append(text)\n",
    "\n",
    "print(\"Aufgeräumter Text:\" ,my_review_clean)\n",
    "\n",
    "my_review_lemmatized = []\n",
    "\n",
    "for doc in nlp.pipe(my_review_clean): # we use our modified SpaCy pipeline\n",
    "    my_review_lemmatized.append([n.lemma_ for n in doc if not n.is_stop])\n",
    "\n",
    "\n",
    "print(\"Lemmatisierter Text:\" ,my_review_lemmatized)\n",
    "\n",
    "\n",
    "print(\"Star:\",lgr.predict(tfidf.transform(my_review_lemmatized))) # we use TF-IDF as Vectorizer and Logistic Regression as Classifier"
   ]
  },
  {
   "cell_type": "code",
   "execution_count": 236,
   "metadata": {},
   "outputs": [
    {
     "name": "stdout",
     "output_type": "stream",
     "text": [
      "Original-Text: ['Der Duft ist unangenehm!']\n",
      "Aufgeräumter Text: ['der duft ist unangenehm']\n",
      "Lemmatisierter Text: [['duft', 'unangenehm']]\n",
      "Star: [1]\n"
     ]
    }
   ],
   "source": [
    "# Negative Review Example\n",
    "\n",
    "my_review = [\"Der Duft ist unangenehm!\"] \n",
    "print(\"Original-Text:\", my_review)\n",
    "\n",
    "my_review_clean = []\n",
    "\n",
    "for text in my_review:\n",
    "    text = clean_doc(text)\n",
    "    my_review_clean.append(text)\n",
    "\n",
    "print(\"Aufgeräumter Text:\" ,my_review_clean)\n",
    "\n",
    "my_review_lemmatized = []\n",
    "\n",
    "for doc in nlp.pipe(my_review_clean):\n",
    "    my_review_lemmatized.append([n.lemma_ for n in doc if not n.is_stop])\n",
    "\n",
    "\n",
    "print(\"Lemmatisierter Text:\" ,my_review_lemmatized)\n",
    "\n",
    "\n",
    "print(\"Star:\",lgr.predict(tfidf.transform(my_review_lemmatized)))"
   ]
  },
  {
   "cell_type": "code",
   "execution_count": null,
   "metadata": {},
   "outputs": [],
   "source": []
  }
 ],
 "metadata": {
  "kernelspec": {
   "display_name": "Python 3 (ipykernel)",
   "language": "python",
   "name": "python3"
  },
  "language_info": {
   "codemirror_mode": {
    "name": "ipython",
    "version": 3
   },
   "file_extension": ".py",
   "mimetype": "text/x-python",
   "name": "python",
   "nbconvert_exporter": "python",
   "pygments_lexer": "ipython3",
   "version": "3.9.7"
  }
 },
 "nbformat": 4,
 "nbformat_minor": 4
}
