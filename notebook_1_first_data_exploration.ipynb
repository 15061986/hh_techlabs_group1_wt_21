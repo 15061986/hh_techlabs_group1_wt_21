{
 "cells": [
  {
   "cell_type": "markdown",
   "metadata": {},
   "source": [
    "# Analysis Ratings & Reviews NIVEA.de"
   ]
  },
  {
   "cell_type": "markdown",
   "metadata": {},
   "source": [
    "## Notebook 1: First Data Exploration"
   ]
  },
  {
   "cell_type": "markdown",
   "metadata": {},
   "source": [
    "### Reading the data"
   ]
  },
  {
   "cell_type": "code",
   "execution_count": 43,
   "metadata": {},
   "outputs": [],
   "source": [
    "import pandas as pd\n",
    "\n",
    "reviews = pd.read_csv(\"reviews.csv\", sep=';')"
   ]
  },
  {
   "cell_type": "code",
   "execution_count": 44,
   "metadata": {},
   "outputs": [
    {
     "data": {
      "text/html": [
       "<div>\n",
       "<style scoped>\n",
       "    .dataframe tbody tr th:only-of-type {\n",
       "        vertical-align: middle;\n",
       "    }\n",
       "\n",
       "    .dataframe tbody tr th {\n",
       "        vertical-align: top;\n",
       "    }\n",
       "\n",
       "    .dataframe thead th {\n",
       "        text-align: right;\n",
       "    }\n",
       "</style>\n",
       "<table border=\"1\" class=\"dataframe\">\n",
       "  <thead>\n",
       "    <tr style=\"text-align: right;\">\n",
       "      <th></th>\n",
       "      <th>id</th>\n",
       "      <th>date</th>\n",
       "      <th>product_id</th>\n",
       "      <th>product_url</th>\n",
       "      <th>product_title</th>\n",
       "      <th>review_title</th>\n",
       "      <th>review_content</th>\n",
       "      <th>review_score</th>\n",
       "      <th>display_name</th>\n",
       "    </tr>\n",
       "  </thead>\n",
       "  <tbody>\n",
       "    <tr>\n",
       "      <th>0</th>\n",
       "      <td>170031864</td>\n",
       "      <td>2012-02-03T00:00:00Z</td>\n",
       "      <td>80105.0</td>\n",
       "      <td>https://www.nivea.de/produkte/nivea-creme-4005...</td>\n",
       "      <td>NIVEA Creme Regenbogen Edition</td>\n",
       "      <td>Kundenbewertung</td>\n",
       "      <td>Meine Mutter hat zeitlebens diese Nivea-Creme ...</td>\n",
       "      <td>5</td>\n",
       "      <td>Heike</td>\n",
       "    </tr>\n",
       "    <tr>\n",
       "      <th>1</th>\n",
       "      <td>170031865</td>\n",
       "      <td>2012-05-31T00:00:00Z</td>\n",
       "      <td>80105.0</td>\n",
       "      <td>https://www.nivea.de/produkte/nivea-creme-4005...</td>\n",
       "      <td>NIVEA Creme Regenbogen Edition</td>\n",
       "      <td>Kundenbewertung</td>\n",
       "      <td>Wirklich unübertroffen! Mein Freund und eine g...</td>\n",
       "      <td>5</td>\n",
       "      <td>Tina</td>\n",
       "    </tr>\n",
       "    <tr>\n",
       "      <th>2</th>\n",
       "      <td>170031866</td>\n",
       "      <td>2011-09-27T00:00:00Z</td>\n",
       "      <td>80105.0</td>\n",
       "      <td>https://www.nivea.de/produkte/nivea-creme-4005...</td>\n",
       "      <td>NIVEA Creme Regenbogen Edition</td>\n",
       "      <td>Kundenbewertung</td>\n",
       "      <td>Diese Creme begleitet mich seit meiner Kindhei...</td>\n",
       "      <td>5</td>\n",
       "      <td>Michael N.</td>\n",
       "    </tr>\n",
       "  </tbody>\n",
       "</table>\n",
       "</div>"
      ],
      "text/plain": [
       "          id                  date  product_id  \\\n",
       "0  170031864  2012-02-03T00:00:00Z     80105.0   \n",
       "1  170031865  2012-05-31T00:00:00Z     80105.0   \n",
       "2  170031866  2011-09-27T00:00:00Z     80105.0   \n",
       "\n",
       "                                         product_url  \\\n",
       "0  https://www.nivea.de/produkte/nivea-creme-4005...   \n",
       "1  https://www.nivea.de/produkte/nivea-creme-4005...   \n",
       "2  https://www.nivea.de/produkte/nivea-creme-4005...   \n",
       "\n",
       "                    product_title     review_title  \\\n",
       "0  NIVEA Creme Regenbogen Edition  Kundenbewertung   \n",
       "1  NIVEA Creme Regenbogen Edition  Kundenbewertung   \n",
       "2  NIVEA Creme Regenbogen Edition  Kundenbewertung   \n",
       "\n",
       "                                      review_content  review_score  \\\n",
       "0  Meine Mutter hat zeitlebens diese Nivea-Creme ...             5   \n",
       "1  Wirklich unübertroffen! Mein Freund und eine g...             5   \n",
       "2  Diese Creme begleitet mich seit meiner Kindhei...             5   \n",
       "\n",
       "  display_name  \n",
       "0        Heike  \n",
       "1         Tina  \n",
       "2   Michael N.  "
      ]
     },
     "execution_count": 44,
     "metadata": {},
     "output_type": "execute_result"
    }
   ],
   "source": [
    "reviews.head(3) # Example of the first 3 rows"
   ]
  },
  {
   "cell_type": "markdown",
   "metadata": {},
   "source": [
    "### Adjustment of the data types"
   ]
  },
  {
   "cell_type": "markdown",
   "metadata": {},
   "source": [
    "#### Checking which data types were assigned automatically"
   ]
  },
  {
   "cell_type": "code",
   "execution_count": 45,
   "metadata": {},
   "outputs": [
    {
     "data": {
      "text/plain": [
       "id                  int64\n",
       "date               object\n",
       "product_id        float64\n",
       "product_url        object\n",
       "product_title      object\n",
       "review_title       object\n",
       "review_content     object\n",
       "review_score        int64\n",
       "display_name       object\n",
       "dtype: object"
      ]
     },
     "execution_count": 45,
     "metadata": {},
     "output_type": "execute_result"
    }
   ],
   "source": [
    "reviews.dtypes"
   ]
  },
  {
   "cell_type": "markdown",
   "metadata": {},
   "source": [
    "#### Adjusting the data types"
   ]
  },
  {
   "cell_type": "code",
   "execution_count": 46,
   "metadata": {},
   "outputs": [
    {
     "data": {
      "text/plain": [
       "id                category\n",
       "date                object\n",
       "product_id        category\n",
       "product_url       category\n",
       "product_title     category\n",
       "review_title        object\n",
       "review_content      object\n",
       "review_score         int64\n",
       "display_name        object\n",
       "dtype: object"
      ]
     },
     "execution_count": 46,
     "metadata": {},
     "output_type": "execute_result"
    }
   ],
   "source": [
    "reviews['id'] = reviews.id.astype('category')\n",
    "reviews['product_id'] = reviews.product_id.astype('category')\n",
    "reviews['product_url'] = reviews.product_url.astype('category')\n",
    "reviews['product_title'] = reviews.product_title.astype('category')\n",
    "reviews['review_title'] = reviews.review_title.astype(str)\n",
    "reviews['review_content'] = reviews.review_content.astype(str)\n",
    "reviews['display_name'] = reviews.display_name.astype(str)\n",
    "reviews.dtypes"
   ]
  },
  {
   "cell_type": "markdown",
   "metadata": {},
   "source": [
    "#### Checking the date format"
   ]
  },
  {
   "cell_type": "code",
   "execution_count": 47,
   "metadata": {},
   "outputs": [
    {
     "data": {
      "text/plain": [
       "0         2012-02-03T00:00:00Z\n",
       "1         2012-05-31T00:00:00Z\n",
       "2         2011-09-27T00:00:00Z\n",
       "3         2011-07-28T00:00:00Z\n",
       "4         2013-01-08T00:00:00Z\n",
       "                  ...         \n",
       "105807    2021-11-27T11:56:57Z\n",
       "105808    2021-11-27T12:27:40Z\n",
       "105809    2021-11-27T14:54:04Z\n",
       "105810    2021-11-27T14:58:30Z\n",
       "105811    2021-11-27T16:39:06Z\n",
       "Name: date, Length: 105812, dtype: object"
      ]
     },
     "execution_count": 47,
     "metadata": {},
     "output_type": "execute_result"
    }
   ],
   "source": [
    "reviews.date"
   ]
  },
  {
   "cell_type": "markdown",
   "metadata": {},
   "source": [
    "#### Adjusting the date format"
   ]
  },
  {
   "cell_type": "code",
   "execution_count": 48,
   "metadata": {},
   "outputs": [
    {
     "data": {
      "text/plain": [
       "0        2012-02-03 00:00:00+00:00\n",
       "1        2012-05-31 00:00:00+00:00\n",
       "2        2011-09-27 00:00:00+00:00\n",
       "3        2011-07-28 00:00:00+00:00\n",
       "4        2013-01-08 00:00:00+00:00\n",
       "                    ...           \n",
       "105807   2021-11-27 11:56:57+00:00\n",
       "105808   2021-11-27 12:27:40+00:00\n",
       "105809   2021-11-27 14:54:04+00:00\n",
       "105810   2021-11-27 14:58:30+00:00\n",
       "105811   2021-11-27 16:39:06+00:00\n",
       "Name: date, Length: 105812, dtype: datetime64[ns, UTC]"
      ]
     },
     "execution_count": 48,
     "metadata": {},
     "output_type": "execute_result"
    }
   ],
   "source": [
    "reviews['date'] = pd.to_datetime(reviews['date'], format='%Y-%m-%d')\n",
    "reviews.date"
   ]
  },
  {
   "cell_type": "markdown",
   "metadata": {},
   "source": [
    "### Data exploration (univariate)"
   ]
  },
  {
   "cell_type": "markdown",
   "metadata": {},
   "source": [
    "#### How many different products does the data set contain?"
   ]
  },
  {
   "cell_type": "code",
   "execution_count": 49,
   "metadata": {},
   "outputs": [
    {
     "data": {
      "text/plain": [
       "898"
      ]
     },
     "execution_count": 49,
     "metadata": {},
     "output_type": "execute_result"
    }
   ],
   "source": [
    "len(pd.unique(reviews['product_id']))"
   ]
  },
  {
   "cell_type": "code",
   "execution_count": 50,
   "metadata": {},
   "outputs": [
    {
     "data": {
      "text/plain": [
       "807"
      ]
     },
     "execution_count": 50,
     "metadata": {},
     "output_type": "execute_result"
    }
   ],
   "source": [
    "len(pd.unique(reviews['product_title']))"
   ]
  },
  {
   "cell_type": "markdown",
   "metadata": {},
   "source": [
    "There are 898 product IDs and 807 product names. That is: for some product names, there are several product ID's. \n",
    "* Explanation: When a product is relaunched, it gets a new ID."
   ]
  },
  {
   "cell_type": "markdown",
   "metadata": {},
   "source": [
    "#### Which products occur most frequently in the dataset (are most frequently rated)?"
   ]
  },
  {
   "cell_type": "code",
   "execution_count": 51,
   "metadata": {},
   "outputs": [
    {
     "data": {
      "text/plain": [
       "NIVEA Eau de Toilette                    2694\n",
       "MagnesiumDry Fresh Floral Deo Roll-On    1488\n",
       "NIVEA SUN Eau de Toilette                1330\n",
       "Name: product_title, dtype: int64"
      ]
     },
     "execution_count": 51,
     "metadata": {},
     "output_type": "execute_result"
    }
   ],
   "source": [
    "reviews['product_title'].value_counts().nlargest(3)"
   ]
  },
  {
   "cell_type": "markdown",
   "metadata": {},
   "source": [
    "#### What is the average rating across all products?"
   ]
  },
  {
   "cell_type": "code",
   "execution_count": 52,
   "metadata": {},
   "outputs": [
    {
     "data": {
      "text/plain": [
       "count    105812.000000\n",
       "mean          4.637659\n",
       "std           0.736914\n",
       "min           1.000000\n",
       "25%           4.000000\n",
       "50%           5.000000\n",
       "75%           5.000000\n",
       "max           5.000000\n",
       "Name: review_score, dtype: float64"
      ]
     },
     "execution_count": 52,
     "metadata": {},
     "output_type": "execute_result"
    }
   ],
   "source": [
    "reviews['review_score'].describe()"
   ]
  },
  {
   "cell_type": "markdown",
   "metadata": {},
   "source": [
    "#### The number of  reviews sorted by their star rating (5-star rating system)"
   ]
  },
  {
   "cell_type": "code",
   "execution_count": 53,
   "metadata": {},
   "outputs": [
    {
     "data": {
      "text/plain": [
       "1     1474\n",
       "2     1223\n",
       "3     3993\n",
       "4    20789\n",
       "5    78333\n",
       "Name: review_score, dtype: int64"
      ]
     },
     "execution_count": 53,
     "metadata": {},
     "output_type": "execute_result"
    }
   ],
   "source": [
    "reviews['review_score'].value_counts().sort_index() "
   ]
  },
  {
   "cell_type": "markdown",
   "metadata": {},
   "source": [
    "We learn that the distribution is \"left-skewed\". So there are significantly more positive reviews than negative ones. This might be a challenge for the classification model that we want to calculate later."
   ]
  },
  {
   "cell_type": "markdown",
   "metadata": {},
   "source": [
    "## Practice Tasks\n",
    "\n",
    "#### What is the average star rating of the 10 most popular products?\n"
   ]
  },
  {
   "cell_type": "code",
   "execution_count": 54,
   "metadata": {},
   "outputs": [
    {
     "data": {
      "text/html": [
       "<div>\n",
       "<style scoped>\n",
       "    .dataframe tbody tr th:only-of-type {\n",
       "        vertical-align: middle;\n",
       "    }\n",
       "\n",
       "    .dataframe tbody tr th {\n",
       "        vertical-align: top;\n",
       "    }\n",
       "\n",
       "    .dataframe thead th {\n",
       "        text-align: right;\n",
       "    }\n",
       "</style>\n",
       "<table border=\"1\" class=\"dataframe\">\n",
       "  <thead>\n",
       "    <tr style=\"text-align: right;\">\n",
       "      <th></th>\n",
       "      <th>id</th>\n",
       "      <th>review_score</th>\n",
       "    </tr>\n",
       "    <tr>\n",
       "      <th>product_title</th>\n",
       "      <th></th>\n",
       "      <th></th>\n",
       "    </tr>\n",
       "  </thead>\n",
       "  <tbody>\n",
       "    <tr>\n",
       "      <th>NIVEA Eau de Toilette</th>\n",
       "      <td>2694</td>\n",
       "      <td>4.413140</td>\n",
       "    </tr>\n",
       "    <tr>\n",
       "      <th>MagnesiumDry Fresh Floral Deo Roll-On</th>\n",
       "      <td>1488</td>\n",
       "      <td>4.678763</td>\n",
       "    </tr>\n",
       "    <tr>\n",
       "      <th>NIVEA SUN Eau de Toilette</th>\n",
       "      <td>1330</td>\n",
       "      <td>4.502256</td>\n",
       "    </tr>\n",
       "    <tr>\n",
       "      <th>Natural Balance Aloe Vera Body Lotion</th>\n",
       "      <td>1274</td>\n",
       "      <td>4.777080</td>\n",
       "    </tr>\n",
       "    <tr>\n",
       "      <th>Sanfte Rasur Rasierer mit Wechselklingen</th>\n",
       "      <td>1256</td>\n",
       "      <td>4.394904</td>\n",
       "    </tr>\n",
       "    <tr>\n",
       "      <th>Sensitive All-In-One Balsam Gesicht &amp; 3-Tage Bart</th>\n",
       "      <td>1031</td>\n",
       "      <td>4.709990</td>\n",
       "    </tr>\n",
       "    <tr>\n",
       "      <th>Rosenblüte Gel-Creme Tagespflege</th>\n",
       "      <td>1016</td>\n",
       "      <td>4.756890</td>\n",
       "    </tr>\n",
       "    <tr>\n",
       "      <th>Reichhaltige Body Milk</th>\n",
       "      <td>1000</td>\n",
       "      <td>4.610000</td>\n",
       "    </tr>\n",
       "    <tr>\n",
       "      <th>Haarmilch Regeneration Mildes Shampoo Feines Haar</th>\n",
       "      <td>967</td>\n",
       "      <td>4.598759</td>\n",
       "    </tr>\n",
       "    <tr>\n",
       "      <th>Cellular Luminous630® Anti Pigmentflecken Intensiv Serum</th>\n",
       "      <td>964</td>\n",
       "      <td>4.419087</td>\n",
       "    </tr>\n",
       "  </tbody>\n",
       "</table>\n",
       "</div>"
      ],
      "text/plain": [
       "                                                      id  review_score\n",
       "product_title                                                         \n",
       "NIVEA Eau de Toilette                               2694      4.413140\n",
       "MagnesiumDry Fresh Floral Deo Roll-On               1488      4.678763\n",
       "NIVEA SUN Eau de Toilette                           1330      4.502256\n",
       "Natural Balance Aloe Vera Body Lotion               1274      4.777080\n",
       "Sanfte Rasur Rasierer mit Wechselklingen            1256      4.394904\n",
       "Sensitive All-In-One Balsam Gesicht & 3-Tage Bart   1031      4.709990\n",
       "Rosenblüte Gel-Creme Tagespflege                    1016      4.756890\n",
       "Reichhaltige Body Milk                              1000      4.610000\n",
       "Haarmilch Regeneration Mildes Shampoo Feines Haar    967      4.598759\n",
       "Cellular Luminous630® Anti Pigmentflecken Inten...   964      4.419087"
      ]
     },
     "execution_count": 54,
     "metadata": {},
     "output_type": "execute_result"
    }
   ],
   "source": [
    "reviews.groupby('product_title').agg({'id': 'count', 'review_score':'mean'}).sort_values(\"id\", ascending = False)\n",
    "reviews.groupby('product_title').agg({'id': 'count', 'review_score':'mean'}).nlargest(10, \"id\")"
   ]
  },
  {
   "cell_type": "markdown",
   "metadata": {},
   "source": [
    "#### Please remove all ratings and reviews that were submitted before 1 January 2019."
   ]
  },
  {
   "cell_type": "code",
   "execution_count": 55,
   "metadata": {},
   "outputs": [
    {
     "data": {
      "text/plain": [
       "Timestamp('2019-01-01 00:00:00+0000', tz='UTC')"
      ]
     },
     "execution_count": 55,
     "metadata": {},
     "output_type": "execute_result"
    }
   ],
   "source": [
    "reviews_filtered = reviews[reviews['date'] >= \"2019-01-01\"] # Removing the reviews that were submitted before 01/01/2019 \n",
    "reviews_filtered.date.min() # checking of the earliest date after the filter application"
   ]
  },
  {
   "cell_type": "markdown",
   "metadata": {},
   "source": [
    "#### How is the distribution of the stars now? Does the skewness remain?"
   ]
  },
  {
   "cell_type": "code",
   "execution_count": 56,
   "metadata": {},
   "outputs": [
    {
     "data": {
      "text/plain": [
       "review_score\n",
       "1      996\n",
       "2      885\n",
       "3     3025\n",
       "4    16171\n",
       "5    60608\n",
       "dtype: int64"
      ]
     },
     "execution_count": 56,
     "metadata": {},
     "output_type": "execute_result"
    }
   ],
   "source": [
    "reviews_filtered.groupby(['review_score']).size()"
   ]
  },
  {
   "cell_type": "markdown",
   "metadata": {},
   "source": [
    "* the distribution remains \"left-skewed\""
   ]
  },
  {
   "cell_type": "code",
   "execution_count": null,
   "metadata": {},
   "outputs": [],
   "source": []
  }
 ],
 "metadata": {
  "kernelspec": {
   "display_name": "Python 3 (ipykernel)",
   "language": "python",
   "name": "python3"
  },
  "language_info": {
   "codemirror_mode": {
    "name": "ipython",
    "version": 3
   },
   "file_extension": ".py",
   "mimetype": "text/x-python",
   "name": "python",
   "nbconvert_exporter": "python",
   "pygments_lexer": "ipython3",
   "version": "3.9.7"
  }
 },
 "nbformat": 4,
 "nbformat_minor": 4
}
